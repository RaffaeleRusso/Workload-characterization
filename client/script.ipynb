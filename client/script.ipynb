{
 "cells": [
  {
   "cell_type": "code",
   "execution_count": 159,
   "metadata": {},
   "outputs": [],
   "source": [
    "import threading\n",
    "import time\n",
    "import os \n",
    "import pandas as pd\n",
    "import datetime"
   ]
  },
  {
   "cell_type": "code",
   "execution_count": 160,
   "metadata": {},
   "outputs": [],
   "source": [
    "aggregate_report = pd.read_csv(\".//aggr_report.csv\")\n",
    "aggregate = pd.read_csv(\".//aggregate.csv\")"
   ]
  },
  {
   "cell_type": "code",
   "execution_count": 161,
   "metadata": {},
   "outputs": [],
   "source": [
    "aggregate[\"Error %\"] = aggregate[\"Error %\"].str.replace(\"%\",\"\")\n",
    "aggregate[\"Error %\"] = aggregate[\"Error %\"].str.replace(\",\",\".\")\n",
    "aggregate[\"Error %\"] = pd.to_numeric(aggregate[\"Error %\"], downcast=\"float\")\n",
    "aggregate[\"Error %\"] = aggregate[\"# Samples\"] * aggregate[\"Error %\"] /100\n",
    "aggr_1 = aggregate[['Label','Throughput','Error %']].copy()\n",
    "aggr_1.rename(columns = {'Label':'label','Error %' : 'errors'}, inplace = True)"
   ]
  },
  {
   "cell_type": "code",
   "execution_count": 162,
   "metadata": {},
   "outputs": [],
   "source": [
    "aggregate_report = aggregate_report.groupby(['label'],axis=0,as_index=False).mean()\n",
    "aggr_2 = aggregate_report[['label','elapsed','Latency']].copy()"
   ]
  },
  {
   "cell_type": "code",
   "execution_count": 163,
   "metadata": {},
   "outputs": [
    {
     "data": {
      "text/html": [
       "<div>\n",
       "<style scoped>\n",
       "    .dataframe tbody tr th:only-of-type {\n",
       "        vertical-align: middle;\n",
       "    }\n",
       "\n",
       "    .dataframe tbody tr th {\n",
       "        vertical-align: top;\n",
       "    }\n",
       "\n",
       "    .dataframe thead th {\n",
       "        text-align: right;\n",
       "    }\n",
       "</style>\n",
       "<table border=\"1\" class=\"dataframe\">\n",
       "  <thead>\n",
       "    <tr style=\"text-align: right;\">\n",
       "      <th></th>\n",
       "      <th>label</th>\n",
       "      <th>Throughput</th>\n",
       "      <th>errors</th>\n",
       "      <th>elapsed</th>\n",
       "      <th>Latency</th>\n",
       "    </tr>\n",
       "  </thead>\n",
       "  <tbody>\n",
       "    <tr>\n",
       "      <th>0</th>\n",
       "      <td>22:07:13</td>\n",
       "      <td>5,91716</td>\n",
       "      <td>0.0</td>\n",
       "      <td>1.333333</td>\n",
       "      <td>1.333333</td>\n",
       "    </tr>\n",
       "    <tr>\n",
       "      <th>1</th>\n",
       "      <td>22:07:14</td>\n",
       "      <td>6,24220</td>\n",
       "      <td>0.0</td>\n",
       "      <td>9.600000</td>\n",
       "      <td>1.400000</td>\n",
       "    </tr>\n",
       "    <tr>\n",
       "      <th>2</th>\n",
       "      <td>22:07:15</td>\n",
       "      <td>7,38007</td>\n",
       "      <td>0.0</td>\n",
       "      <td>24.750000</td>\n",
       "      <td>1.500000</td>\n",
       "    </tr>\n",
       "    <tr>\n",
       "      <th>3</th>\n",
       "      <td>22:07:16</td>\n",
       "      <td>7,93651</td>\n",
       "      <td>0.0</td>\n",
       "      <td>14.250000</td>\n",
       "      <td>1.500000</td>\n",
       "    </tr>\n",
       "    <tr>\n",
       "      <th>4</th>\n",
       "      <td>22:07:17</td>\n",
       "      <td>7,87402</td>\n",
       "      <td>0.0</td>\n",
       "      <td>2.500000</td>\n",
       "      <td>1.000000</td>\n",
       "    </tr>\n",
       "  </tbody>\n",
       "</table>\n",
       "</div>"
      ],
      "text/plain": [
       "       label Throughput  errors    elapsed   Latency\n",
       "0  22:07:13     5,91716     0.0   1.333333  1.333333\n",
       "1  22:07:14     6,24220     0.0   9.600000  1.400000\n",
       "2  22:07:15     7,38007     0.0  24.750000  1.500000\n",
       "3  22:07:16     7,93651     0.0  14.250000  1.500000\n",
       "4  22:07:17     7,87402     0.0   2.500000  1.000000"
      ]
     },
     "execution_count": 163,
     "metadata": {},
     "output_type": "execute_result"
    }
   ],
   "source": [
    "aggr_df = pd.merge(aggr_1, aggr_2, on='label')\n",
    "aggr_df.head()"
   ]
  },
  {
   "cell_type": "code",
   "execution_count": 164,
   "metadata": {},
   "outputs": [],
   "source": [
    "if not os.path.isfile('client.csv'):\n",
    "   aggr_df.to_csv('client.csv',index=False)\n",
    "else: \n",
    "   aggr_df.to_csv('client.csv', index = False,mode='a', header=False)"
   ]
  }
 ],
 "metadata": {
  "kernelspec": {
   "display_name": "Python 3.9.7 ('RaffEnv')",
   "language": "python",
   "name": "python3"
  },
  "language_info": {
   "codemirror_mode": {
    "name": "ipython",
    "version": 3
   },
   "file_extension": ".py",
   "mimetype": "text/x-python",
   "name": "python",
   "nbconvert_exporter": "python",
   "pygments_lexer": "ipython3",
   "version": "3.9.7"
  },
  "orig_nbformat": 4,
  "vscode": {
   "interpreter": {
    "hash": "833e8a28b7e06ebcd2b1f70af945744f6e0903d569026d00c39923a481277035"
   }
  }
 },
 "nbformat": 4,
 "nbformat_minor": 2
}
