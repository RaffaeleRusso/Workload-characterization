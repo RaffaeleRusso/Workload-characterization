{
 "cells": [
  {
   "cell_type": "code",
   "execution_count": 33,
   "metadata": {},
   "outputs": [],
   "source": [
    "import threading\n",
    "import time\n",
    "import os \n",
    "import pandas as pd\n",
    "import datetime"
   ]
  },
  {
   "cell_type": "code",
   "execution_count": 34,
   "metadata": {},
   "outputs": [],
   "source": [
    "aggregate_report = pd.read_csv(\".//aggr_report.csv\")\n",
    "aggregate = pd.read_csv(\".//aggregate.csv\")"
   ]
  },
  {
   "cell_type": "code",
   "execution_count": 35,
   "metadata": {},
   "outputs": [],
   "source": [
    "aggregate[\"Error %\"] = aggregate[\"Error %\"].str.replace(\"%\",\"\")\n",
    "aggregate[\"Error %\"] = aggregate[\"Error %\"].str.replace(\",\",\".\")\n",
    "aggregate[\"Error %\"] = pd.to_numeric(aggregate[\"Error %\"], downcast=\"float\")\n",
    "aggregate[\"Error %\"] = aggregate[\"# Samples\"] * aggregate[\"Error %\"] /100\n",
    "aggr_1 = aggregate[['Label','Throughput','Error %']].copy()\n",
    "aggr_1.rename(columns = {'Label':'label','Error %' : 'errors'}, inplace = True)"
   ]
  },
  {
   "cell_type": "code",
   "execution_count": 36,
   "metadata": {},
   "outputs": [],
   "source": [
    "aggregate_report = aggregate_report.groupby(['label'],axis=0,as_index=False).mean()\n",
    "aggr_2 = aggregate_report[['label','elapsed','Latency']].copy()"
   ]
  },
  {
   "cell_type": "code",
   "execution_count": 37,
   "metadata": {},
   "outputs": [
    {
     "data": {
      "text/html": [
       "<div>\n",
       "<style scoped>\n",
       "    .dataframe tbody tr th:only-of-type {\n",
       "        vertical-align: middle;\n",
       "    }\n",
       "\n",
       "    .dataframe tbody tr th {\n",
       "        vertical-align: top;\n",
       "    }\n",
       "\n",
       "    .dataframe thead th {\n",
       "        text-align: right;\n",
       "    }\n",
       "</style>\n",
       "<table border=\"1\" class=\"dataframe\">\n",
       "  <thead>\n",
       "    <tr style=\"text-align: right;\">\n",
       "      <th></th>\n",
       "      <th>label</th>\n",
       "      <th>Throughput</th>\n",
       "      <th>errors</th>\n",
       "      <th>elapsed</th>\n",
       "      <th>Latency</th>\n",
       "    </tr>\n",
       "  </thead>\n",
       "  <tbody>\n",
       "    <tr>\n",
       "      <th>0</th>\n",
       "      <td>01:23:18</td>\n",
       "      <td>5,50122</td>\n",
       "      <td>0.0</td>\n",
       "      <td>2380.592593</td>\n",
       "      <td>2203.037037</td>\n",
       "    </tr>\n",
       "    <tr>\n",
       "      <th>1</th>\n",
       "      <td>01:23:19</td>\n",
       "      <td>1,97433</td>\n",
       "      <td>0.0</td>\n",
       "      <td>2017.125000</td>\n",
       "      <td>1839.250000</td>\n",
       "    </tr>\n",
       "    <tr>\n",
       "      <th>2</th>\n",
       "      <td>01:23:21</td>\n",
       "      <td>11,23596</td>\n",
       "      <td>0.0</td>\n",
       "      <td>89.000000</td>\n",
       "      <td>7.000000</td>\n",
       "    </tr>\n",
       "    <tr>\n",
       "      <th>3</th>\n",
       "      <td>01:23:24</td>\n",
       "      <td>21,38493</td>\n",
       "      <td>0.0</td>\n",
       "      <td>76.380952</td>\n",
       "      <td>4.238095</td>\n",
       "    </tr>\n",
       "    <tr>\n",
       "      <th>4</th>\n",
       "      <td>01:23:25</td>\n",
       "      <td>14,49275</td>\n",
       "      <td>0.0</td>\n",
       "      <td>121.250000</td>\n",
       "      <td>8.500000</td>\n",
       "    </tr>\n",
       "  </tbody>\n",
       "</table>\n",
       "</div>"
      ],
      "text/plain": [
       "      label Throughput  errors      elapsed      Latency\n",
       "0  01:23:18    5,50122     0.0  2380.592593  2203.037037\n",
       "1  01:23:19    1,97433     0.0  2017.125000  1839.250000\n",
       "2  01:23:21   11,23596     0.0    89.000000     7.000000\n",
       "3  01:23:24   21,38493     0.0    76.380952     4.238095\n",
       "4  01:23:25   14,49275     0.0   121.250000     8.500000"
      ]
     },
     "execution_count": 37,
     "metadata": {},
     "output_type": "execute_result"
    }
   ],
   "source": [
    "aggr_df = pd.merge(aggr_1, aggr_2, on='label')\n",
    "aggr_df.head()"
   ]
  },
  {
   "cell_type": "code",
   "execution_count": null,
   "metadata": {},
   "outputs": [],
   "source": [
    "\n",
    "aggr_df[\"label\"] = aggr_df[\"label\"] + "
   ]
  },
  {
   "cell_type": "code",
   "execution_count": 38,
   "metadata": {},
   "outputs": [],
   "source": [
    "if not os.path.isfile('client.csv'):\n",
    "   aggr_df.to_csv('client.csv',index=False)\n",
    "else: \n",
    "   aggr_df.to_csv('client.csv', index = False,mode='a', header=False)"
   ]
  }
 ],
 "metadata": {
  "kernelspec": {
   "display_name": "Python 3.9.7 ('RaffEnv')",
   "language": "python",
   "name": "python3"
  },
  "language_info": {
   "codemirror_mode": {
    "name": "ipython",
    "version": 3
   },
   "file_extension": ".py",
   "mimetype": "text/x-python",
   "name": "python",
   "nbconvert_exporter": "python",
   "pygments_lexer": "ipython3",
   "version": "3.9.7"
  },
  "orig_nbformat": 4,
  "vscode": {
   "interpreter": {
    "hash": "833e8a28b7e06ebcd2b1f70af945744f6e0903d569026d00c39923a481277035"
   }
  }
 },
 "nbformat": 4,
 "nbformat_minor": 2
}
