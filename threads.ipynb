{
 "cells": [
  {
   "cell_type": "code",
   "execution_count": 181,
   "metadata": {},
   "outputs": [],
   "source": [
    "import threading\n",
    "import time \n",
    "import os \n",
    "import pandas as pd"
   ]
  },
  {
   "cell_type": "code",
   "execution_count": 182,
   "metadata": {},
   "outputs": [],
   "source": [
    "aggregate_report = pd.read_csv(\".//aggr_report.csv\")\n",
    "aggregate = pd.read_csv(\".//aggregate.csv\")"
   ]
  },
  {
   "cell_type": "code",
   "execution_count": 183,
   "metadata": {},
   "outputs": [],
   "source": [
    "aggregate[\"Error %\"] = aggregate[\"Error %\"].str.replace(\"%\",\"\")\n",
    "aggregate[\"Error %\"] = aggregate[\"Error %\"].str.replace(\",\",\".\")\n",
    "aggregate[\"Error %\"] = pd.to_numeric(aggregate[\"Error %\"], downcast=\"float\")\n",
    "aggregate[\"Error %\"] = aggregate[\"# Samples\"] * aggregate[\"Error %\"] /100\n",
    "aggr_1 = aggregate[['Label','Throughput','Error %']].copy()\n",
    "aggr_1.rename(columns = {'Label':'label','Error %' : 'errors'}, inplace = True)"
   ]
  },
  {
   "cell_type": "code",
   "execution_count": 184,
   "metadata": {},
   "outputs": [],
   "source": [
    "aggregate_report = aggregate_report.groupby(['label'],axis=0,as_index=False).mean()\n",
    "aggr_2 = aggregate_report[['label','elapsed','Latency']].copy()"
   ]
  },
  {
   "cell_type": "code",
   "execution_count": 185,
   "metadata": {},
   "outputs": [
    {
     "data": {
      "text/html": [
       "<div>\n",
       "<style scoped>\n",
       "    .dataframe tbody tr th:only-of-type {\n",
       "        vertical-align: middle;\n",
       "    }\n",
       "\n",
       "    .dataframe tbody tr th {\n",
       "        vertical-align: top;\n",
       "    }\n",
       "\n",
       "    .dataframe thead th {\n",
       "        text-align: right;\n",
       "    }\n",
       "</style>\n",
       "<table border=\"1\" class=\"dataframe\">\n",
       "  <thead>\n",
       "    <tr style=\"text-align: right;\">\n",
       "      <th></th>\n",
       "      <th>label</th>\n",
       "      <th>Throughput</th>\n",
       "      <th>errors</th>\n",
       "      <th>elapsed</th>\n",
       "      <th>Latency</th>\n",
       "    </tr>\n",
       "  </thead>\n",
       "  <tbody>\n",
       "    <tr>\n",
       "      <th>0</th>\n",
       "      <td>17:07:27</td>\n",
       "      <td>25,00000</td>\n",
       "      <td>0.0</td>\n",
       "      <td>40.000000</td>\n",
       "      <td>3.000000</td>\n",
       "    </tr>\n",
       "    <tr>\n",
       "      <th>1</th>\n",
       "      <td>17:07:28</td>\n",
       "      <td>7,35130</td>\n",
       "      <td>0.0</td>\n",
       "      <td>1569.878788</td>\n",
       "      <td>1493.787879</td>\n",
       "    </tr>\n",
       "    <tr>\n",
       "      <th>2</th>\n",
       "      <td>17:07:29</td>\n",
       "      <td>5,44959</td>\n",
       "      <td>0.0</td>\n",
       "      <td>34.750000</td>\n",
       "      <td>1.750000</td>\n",
       "    </tr>\n",
       "    <tr>\n",
       "      <th>3</th>\n",
       "      <td>17:07:30</td>\n",
       "      <td>3,33333</td>\n",
       "      <td>0.0</td>\n",
       "      <td>35.666667</td>\n",
       "      <td>1.000000</td>\n",
       "    </tr>\n",
       "    <tr>\n",
       "      <th>4</th>\n",
       "      <td>17:07:31</td>\n",
       "      <td>26,31579</td>\n",
       "      <td>0.0</td>\n",
       "      <td>38.000000</td>\n",
       "      <td>2.000000</td>\n",
       "    </tr>\n",
       "  </tbody>\n",
       "</table>\n",
       "</div>"
      ],
      "text/plain": [
       "      label Throughput  errors      elapsed      Latency\n",
       "0  17:07:27   25,00000     0.0    40.000000     3.000000\n",
       "1  17:07:28    7,35130     0.0  1569.878788  1493.787879\n",
       "2  17:07:29    5,44959     0.0    34.750000     1.750000\n",
       "3  17:07:30    3,33333     0.0    35.666667     1.000000\n",
       "4  17:07:31   26,31579     0.0    38.000000     2.000000"
      ]
     },
     "execution_count": 185,
     "metadata": {},
     "output_type": "execute_result"
    }
   ],
   "source": [
    "aggr_df = pd.merge(aggr_1, aggr_2, on='label')\n",
    "aggr_df.head()"
   ]
  },
  {
   "cell_type": "code",
   "execution_count": 186,
   "metadata": {},
   "outputs": [],
   "source": [
    "pid = 4231\n",
    "VmPeak =\"grep VmPeak /proc/\"+str(pid)+\"/status\"\n",
    "VmRSS = \"grep VmRSS /proc/\"+str(pid)+\"/status\"\n",
    "VmSize = \"grep VmSize /proc/\"+str(pid)+\"/status\"\n",
    "VmHWM = \"grep VmHWM /proc/\"+str(pid)+\"/status\"\n",
    "VmPTE = \"grep VmPTE /proc/\"+str(pid)+\"/status\"\n",
    "Threads = \"grep Threads /proc/\"+str(pid)+\"/status\"\n",
    "MemFree = \"grep MemFree  /proc/meminfo\" \n",
    "Buffers = \"grep Buffers  /proc/meminfo\" \n",
    "Cached = \"grep Cached  /proc/meminfo | head -1\"\n",
    "Active = \"grep Active  /proc/meminfo | head -1\"\n",
    "Inactive = \"grep Inactive  /proc/meminfo | head -1\"\n",
    "Dirty = \"grep Dirty  /proc/meminfo | head -1\"\n",
    "Writeback = \"grep Writeback  /proc/meminfo | head -1\"\n",
    "AnonPages = \"grep AnonPages  /proc/meminfo | head -1\"\n",
    "Mapped = \"grep Mapped  /proc/meminfo | head -1\"\n",
    "Slab = \"grep Slab  /proc/meminfo | head -1\"\n",
    "PageTables = \"grep PageTables  /proc/meminfo | head -1\"\n",
    "Committed_AS = \"grep Committed_AS  /proc/meminfo | head -1\"\n",
    "NumOfAllocFH = \"head -1 /proc/sys/fs/file-nr | awk ' {print $1} '\"\n",
    "proc_fd = \"cat /proc/sys/fs/file-nr | awk ' { print $1 } ' \"\n",
    "avgThroughput = 'avgThroughput'\n",
    "avgElapsed = 'avgElapsed'\n",
    "avgLatency = 'avgLatency'\n",
    "Errors =   'Errors'\n"
   ]
  },
  {
   "cell_type": "code",
   "execution_count": 187,
   "metadata": {},
   "outputs": [],
   "source": [
    "test = [j for j in range(3)]"
   ]
  },
  {
   "cell_type": "code",
   "execution_count": 188,
   "metadata": {},
   "outputs": [
    {
     "data": {
      "text/plain": [
       "[0, 1, 2]"
      ]
     },
     "execution_count": 188,
     "metadata": {},
     "output_type": "execute_result"
    }
   ],
   "source": [
    "test"
   ]
  },
  {
   "cell_type": "code",
   "execution_count": 189,
   "metadata": {},
   "outputs": [],
   "source": [
    "def mod_test(i):\n",
    "    test[i] += i"
   ]
  },
  {
   "cell_type": "code",
   "execution_count": 190,
   "metadata": {},
   "outputs": [
    {
     "name": "stdout",
     "output_type": "stream",
     "text": [
      "Time= 0.5271ms Test = [0, 1, 2] Iterazione: 0 Thread_name = Thread-8\n",
      "Time= 0.6783ms Test = [0, 2, 2] Iterazione: 0 Thread_name = Thread-9\n",
      "Time= 0.8671ms Test = [0, 2, 4] Iterazione: 0 Thread_name = Thread-10\n"
     ]
    }
   ],
   "source": [
    "for it in range(3):\n",
    "    threads = [threading.Thread(target = mod_test,args = (i,))for i in range(3)]\n",
    "    t = time.time()\n",
    "    for thread in threads:\n",
    "        thread.start()\n",
    "        elapsed = time.time() - t\n",
    "        print(f'Time= {round(elapsed * 1000,ndigits=4)}ms Test = {test} Iterazione: {it} Thread_name = {thread.name}')\n",
    "    thread.join()\n",
    "    time.sleep(1)"
   ]
  },
  {
   "cell_type": "code",
   "execution_count": null,
   "metadata": {},
   "outputs": [
    {
     "name": "stdout",
     "output_type": "stream",
     "text": [
      "[0, 4, 8]\n"
     ]
    }
   ],
   "source": [
    "print(test)"
   ]
  }
 ],
 "metadata": {
  "kernelspec": {
   "display_name": "Python 3.9.7 ('RaffEnv')",
   "language": "python",
   "name": "python3"
  },
  "language_info": {
   "codemirror_mode": {
    "name": "ipython",
    "version": 3
   },
   "file_extension": ".py",
   "mimetype": "text/x-python",
   "name": "python",
   "nbconvert_exporter": "python",
   "pygments_lexer": "ipython3",
   "version": "3.9.7"
  },
  "orig_nbformat": 4,
  "vscode": {
   "interpreter": {
    "hash": "833e8a28b7e06ebcd2b1f70af945744f6e0903d569026d00c39923a481277035"
   }
  }
 },
 "nbformat": 4,
 "nbformat_minor": 2
}
