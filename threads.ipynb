{
 "cells": [
  {
   "cell_type": "code",
   "execution_count": 2,
   "metadata": {},
   "outputs": [],
   "source": [
    "import threading\n",
    "import time \n",
    "import os \n",
    "import pandas as pd"
   ]
  },
  {
   "cell_type": "code",
   "execution_count": 5,
   "metadata": {},
   "outputs": [
    {
     "name": "stderr",
     "output_type": "stream",
     "text": [
      "/Users/raffaelerusso/opt/anaconda3/envs/RaffEnv/lib/python3.9/site-packages/openpyxl/worksheet/_reader.py:312: UserWarning: Unknown extension is not supported and will be removed\n",
      "  warn(msg)\n"
     ]
    }
   ],
   "source": [
    "x = pd.read_excel(\".//EsercizioPCA_CLustering_vers2022.xlsx\")"
   ]
  },
  {
   "cell_type": "code",
   "execution_count": 10,
   "metadata": {},
   "outputs": [
    {
     "data": {
      "text/plain": [
       "Variabili consdierate           'VmPeak'\n",
       "Unnamed: 1                      'VmSize'\n",
       "Unnamed: 2                       'VmHWM'\n",
       "Unnamed: 3                       'VmRSS'\n",
       "Unnamed: 4                       'VmPTE'\n",
       "Unnamed: 5                     'Threads'\n",
       "Unnamed: 6                     'MemFree'\n",
       "Unnamed: 7                     'Buffers'\n",
       "Unnamed: 8                      'Cached'\n",
       "Unnamed: 9                      'Active'\n",
       "Unnamed: 10                   'Inactive'\n",
       "Unnamed: 11                      'Dirty'\n",
       "Unnamed: 12                  'Writeback'\n",
       "Unnamed: 13                  'AnonPages'\n",
       "Unnamed: 14                     'Mapped'\n",
       "Unnamed: 15                       'Slab'\n",
       "Unnamed: 16                 'PageTables'\n",
       "Unnamed: 17               'Committed_AS'\n",
       "Unnamed: 18               'NumOfAllocFH'\n",
       "Unnamed: 19                    'proc-fd'\n",
       "Unnamed: 20              'avgThroughput'\n",
       "Unnamed: 21                 'avgElapsed'\n",
       "Unnamed: 22                 'avgLatency'\n",
       "Unnamed: 23                     'Errors'\n",
       "Name: 1, dtype: object"
      ]
     },
     "execution_count": 10,
     "metadata": {},
     "output_type": "execute_result"
    }
   ],
   "source": [
    "vars = x.loc[1,:]\n",
    "vars"
   ]
  },
  {
   "cell_type": "code",
   "execution_count": 1,
   "metadata": {},
   "outputs": [],
   "source": [
    "test = [j for j in range(3)]"
   ]
  },
  {
   "cell_type": "code",
   "execution_count": 2,
   "metadata": {},
   "outputs": [
    {
     "data": {
      "text/plain": [
       "[0, 1, 2]"
      ]
     },
     "execution_count": 2,
     "metadata": {},
     "output_type": "execute_result"
    }
   ],
   "source": [
    "test"
   ]
  },
  {
   "cell_type": "code",
   "execution_count": 41,
   "metadata": {},
   "outputs": [],
   "source": [
    "def mod_test(i):\n",
    "    test[i] += i\n"
   ]
  },
  {
   "cell_type": "code",
   "execution_count": 43,
   "metadata": {},
   "outputs": [
    {
     "name": "stdout",
     "output_type": "stream",
     "text": [
      "Time= 5.0201ms Test = [0, 1, 2] Iterazione: 0 Thread_name = Thread-116\n",
      "Time= 6.536ms Test = [0, 2, 2] Iterazione: 0 Thread_name = Thread-117\n",
      "Time= 7.0698ms Test = [0, 2, 4] Iterazione: 0 Thread_name = Thread-118\n",
      "Time= 0.3181ms Test = [0, 2, 4] Iterazione: 1 Thread_name = Thread-119\n",
      "Time= 0.9718ms Test = [0, 3, 4] Iterazione: 1 Thread_name = Thread-120\n",
      "Time= 1.5209ms Test = [0, 3, 6] Iterazione: 1 Thread_name = Thread-121\n",
      "Time= 0.4041ms Test = [0, 3, 6] Iterazione: 2 Thread_name = Thread-122\n",
      "Time= 1.6611ms Test = [0, 4, 6] Iterazione: 2 Thread_name = Thread-123\n",
      "Time= 2.1961ms Test = [0, 4, 8] Iterazione: 2 Thread_name = Thread-124\n"
     ]
    }
   ],
   "source": [
    "for it in range(3):\n",
    "    threads = [threading.Thread(target = mod_test,args = (i,))for i in range(3)]\n",
    "    t = time.time()\n",
    "    for thread in threads:\n",
    "        thread.start()\n",
    "        elapsed = time.time() - t\n",
    "        print(f'Time= {round(elapsed * 1000,ndigits=4)}ms Test = {test} Iterazione: {it} Thread_name = {thread.name}')\n",
    "    thread.join()\n",
    "    time.sleep(1)\n"
   ]
  },
  {
   "cell_type": "code",
   "execution_count": 44,
   "metadata": {},
   "outputs": [
    {
     "name": "stdout",
     "output_type": "stream",
     "text": [
      "[0, 4, 8]\n"
     ]
    }
   ],
   "source": [
    "print(test)"
   ]
  }
 ],
 "metadata": {
  "kernelspec": {
   "display_name": "Python 3.9.7 ('RaffEnv')",
   "language": "python",
   "name": "python3"
  },
  "language_info": {
   "codemirror_mode": {
    "name": "ipython",
    "version": 3
   },
   "file_extension": ".py",
   "mimetype": "text/x-python",
   "name": "python",
   "nbconvert_exporter": "python",
   "pygments_lexer": "ipython3",
   "version": "3.9.7"
  },
  "orig_nbformat": 4,
  "vscode": {
   "interpreter": {
    "hash": "833e8a28b7e06ebcd2b1f70af945744f6e0903d569026d00c39923a481277035"
   }
  }
 },
 "nbformat": 4,
 "nbformat_minor": 2
}
