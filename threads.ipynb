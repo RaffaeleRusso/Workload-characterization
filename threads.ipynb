{
 "cells": [
  {
   "cell_type": "code",
   "execution_count": 2,
   "metadata": {},
   "outputs": [],
   "source": [
    "import threading\n",
    "import time \n",
    "import os \n",
    "import pandas as pd"
   ]
  },
  {
   "cell_type": "code",
   "execution_count": 5,
   "metadata": {},
   "outputs": [
    {
     "name": "stderr",
     "output_type": "stream",
     "text": [
      "/Users/raffaelerusso/opt/anaconda3/envs/RaffEnv/lib/python3.9/site-packages/openpyxl/worksheet/_reader.py:312: UserWarning: Unknown extension is not supported and will be removed\n",
      "  warn(msg)\n"
     ]
    }
   ],
   "source": [
    "x = pd.read_excel(\".//EsercizioPCA_CLustering_vers2022.xlsx\")"
   ]
  },
  {
   "cell_type": "code",
   "execution_count": 19,
   "metadata": {},
   "outputs": [
    {
     "data": {
      "text/html": [
       "<div>\n",
       "<style scoped>\n",
       "    .dataframe tbody tr th:only-of-type {\n",
       "        vertical-align: middle;\n",
       "    }\n",
       "\n",
       "    .dataframe tbody tr th {\n",
       "        vertical-align: top;\n",
       "    }\n",
       "\n",
       "    .dataframe thead th {\n",
       "        text-align: right;\n",
       "    }\n",
       "</style>\n",
       "<table border=\"1\" class=\"dataframe\">\n",
       "  <thead>\n",
       "    <tr style=\"text-align: right;\">\n",
       "      <th></th>\n",
       "      <th>Variabili consdierate</th>\n",
       "      <th>Unnamed: 1</th>\n",
       "      <th>Unnamed: 2</th>\n",
       "      <th>Unnamed: 3</th>\n",
       "      <th>Unnamed: 4</th>\n",
       "      <th>Unnamed: 5</th>\n",
       "      <th>Unnamed: 6</th>\n",
       "      <th>Unnamed: 7</th>\n",
       "      <th>Unnamed: 8</th>\n",
       "      <th>Unnamed: 9</th>\n",
       "      <th>...</th>\n",
       "      <th>Unnamed: 14</th>\n",
       "      <th>Unnamed: 15</th>\n",
       "      <th>Unnamed: 16</th>\n",
       "      <th>Unnamed: 17</th>\n",
       "      <th>Unnamed: 18</th>\n",
       "      <th>Unnamed: 19</th>\n",
       "      <th>Unnamed: 20</th>\n",
       "      <th>Unnamed: 21</th>\n",
       "      <th>Unnamed: 22</th>\n",
       "      <th>Unnamed: 23</th>\n",
       "    </tr>\n",
       "  </thead>\n",
       "  <tbody>\n",
       "    <tr>\n",
       "      <th>0</th>\n",
       "      <td>NaN</td>\n",
       "      <td>NaN</td>\n",
       "      <td>NaN</td>\n",
       "      <td>NaN</td>\n",
       "      <td>NaN</td>\n",
       "      <td>NaN</td>\n",
       "      <td>NaN</td>\n",
       "      <td>NaN</td>\n",
       "      <td>NaN</td>\n",
       "      <td>NaN</td>\n",
       "      <td>...</td>\n",
       "      <td>NaN</td>\n",
       "      <td>NaN</td>\n",
       "      <td>NaN</td>\n",
       "      <td>NaN</td>\n",
       "      <td>NaN</td>\n",
       "      <td>NaN</td>\n",
       "      <td>NaN</td>\n",
       "      <td>NaN</td>\n",
       "      <td>NaN</td>\n",
       "      <td>NaN</td>\n",
       "    </tr>\n",
       "    <tr>\n",
       "      <th>1</th>\n",
       "      <td>'VmPeak'</td>\n",
       "      <td>'VmSize'</td>\n",
       "      <td>'VmHWM'</td>\n",
       "      <td>'VmRSS'</td>\n",
       "      <td>'VmPTE'</td>\n",
       "      <td>'Threads'</td>\n",
       "      <td>'MemFree'</td>\n",
       "      <td>'Buffers'</td>\n",
       "      <td>'Cached'</td>\n",
       "      <td>'Active'</td>\n",
       "      <td>...</td>\n",
       "      <td>'Mapped'</td>\n",
       "      <td>'Slab'</td>\n",
       "      <td>'PageTables'</td>\n",
       "      <td>'Committed_AS'</td>\n",
       "      <td>'NumOfAllocFH'</td>\n",
       "      <td>'proc-fd'</td>\n",
       "      <td>'avgThroughput'</td>\n",
       "      <td>'avgElapsed'</td>\n",
       "      <td>'avgLatency'</td>\n",
       "      <td>'Errors'</td>\n",
       "    </tr>\n",
       "    <tr>\n",
       "      <th>2</th>\n",
       "      <td>NaN</td>\n",
       "      <td>NaN</td>\n",
       "      <td>NaN</td>\n",
       "      <td>NaN</td>\n",
       "      <td>NaN</td>\n",
       "      <td>NaN</td>\n",
       "      <td>NaN</td>\n",
       "      <td>NaN</td>\n",
       "      <td>NaN</td>\n",
       "      <td>NaN</td>\n",
       "      <td>...</td>\n",
       "      <td>NaN</td>\n",
       "      <td>NaN</td>\n",
       "      <td>NaN</td>\n",
       "      <td>NaN</td>\n",
       "      <td>NaN</td>\n",
       "      <td>NaN</td>\n",
       "      <td>NaN</td>\n",
       "      <td>NaN</td>\n",
       "      <td>NaN</td>\n",
       "      <td>NaN</td>\n",
       "    </tr>\n",
       "    <tr>\n",
       "      <th>3</th>\n",
       "      <td>NaN</td>\n",
       "      <td>NaN</td>\n",
       "      <td>NaN</td>\n",
       "      <td>NaN</td>\n",
       "      <td>NaN</td>\n",
       "      <td>NaN</td>\n",
       "      <td>NaN</td>\n",
       "      <td>NaN</td>\n",
       "      <td>NaN</td>\n",
       "      <td>NaN</td>\n",
       "      <td>...</td>\n",
       "      <td>NaN</td>\n",
       "      <td>NaN</td>\n",
       "      <td>NaN</td>\n",
       "      <td>NaN</td>\n",
       "      <td>NaN</td>\n",
       "      <td>NaN</td>\n",
       "      <td>NaN</td>\n",
       "      <td>NaN</td>\n",
       "      <td>NaN</td>\n",
       "      <td>NaN</td>\n",
       "    </tr>\n",
       "    <tr>\n",
       "      <th>4</th>\n",
       "      <td>144012</td>\n",
       "      <td>126424</td>\n",
       "      <td>14224</td>\n",
       "      <td>14224</td>\n",
       "      <td>108</td>\n",
       "      <td>9</td>\n",
       "      <td>5621452</td>\n",
       "      <td>29064</td>\n",
       "      <td>334600</td>\n",
       "      <td>0</td>\n",
       "      <td>...</td>\n",
       "      <td>156</td>\n",
       "      <td>0</td>\n",
       "      <td>67408</td>\n",
       "      <td>22840</td>\n",
       "      <td>26160</td>\n",
       "      <td>6968</td>\n",
       "      <td>268820</td>\n",
       "      <td>510</td>\n",
       "      <td>0</td>\n",
       "      <td>2</td>\n",
       "    </tr>\n",
       "  </tbody>\n",
       "</table>\n",
       "<p>5 rows × 24 columns</p>\n",
       "</div>"
      ],
      "text/plain": [
       "  Variabili consdierate Unnamed: 1 Unnamed: 2 Unnamed: 3 Unnamed: 4  \\\n",
       "0                   NaN        NaN        NaN        NaN        NaN   \n",
       "1              'VmPeak'   'VmSize'    'VmHWM'    'VmRSS'    'VmPTE'   \n",
       "2                   NaN        NaN        NaN        NaN        NaN   \n",
       "3                   NaN        NaN        NaN        NaN        NaN   \n",
       "4                144012     126424      14224      14224        108   \n",
       "\n",
       "  Unnamed: 5 Unnamed: 6 Unnamed: 7 Unnamed: 8 Unnamed: 9  ... Unnamed: 14  \\\n",
       "0        NaN        NaN        NaN        NaN        NaN  ...         NaN   \n",
       "1  'Threads'  'MemFree'  'Buffers'   'Cached'   'Active'  ...    'Mapped'   \n",
       "2        NaN        NaN        NaN        NaN        NaN  ...         NaN   \n",
       "3        NaN        NaN        NaN        NaN        NaN  ...         NaN   \n",
       "4          9    5621452      29064     334600          0  ...         156   \n",
       "\n",
       "  Unnamed: 15   Unnamed: 16     Unnamed: 17     Unnamed: 18 Unnamed: 19  \\\n",
       "0         NaN           NaN             NaN             NaN         NaN   \n",
       "1      'Slab'  'PageTables'  'Committed_AS'  'NumOfAllocFH'   'proc-fd'   \n",
       "2         NaN           NaN             NaN             NaN         NaN   \n",
       "3         NaN           NaN             NaN             NaN         NaN   \n",
       "4           0         67408           22840           26160        6968   \n",
       "\n",
       "       Unnamed: 20   Unnamed: 21   Unnamed: 22 Unnamed: 23  \n",
       "0              NaN           NaN           NaN         NaN  \n",
       "1  'avgThroughput'  'avgElapsed'  'avgLatency'    'Errors'  \n",
       "2              NaN           NaN           NaN         NaN  \n",
       "3              NaN           NaN           NaN         NaN  \n",
       "4           268820           510             0           2  \n",
       "\n",
       "[5 rows x 24 columns]"
      ]
     },
     "execution_count": 19,
     "metadata": {},
     "output_type": "execute_result"
    }
   ],
   "source": [
    "x.head()"
   ]
  },
  {
   "cell_type": "code",
   "execution_count": null,
   "metadata": {},
   "outputs": [],
   "source": [
    "x.head()"
   ]
  },
  {
   "cell_type": "code",
   "execution_count": 18,
   "metadata": {},
   "outputs": [
    {
     "data": {
      "text/plain": [
       "array([\"'VmPeak'\", \"'VmSize'\", \"'VmHWM'\", \"'VmRSS'\", \"'VmPTE'\",\n",
       "       \"'Threads'\", \"'MemFree'\", \"'Buffers'\", \"'Cached'\", \"'Active'\",\n",
       "       \"'Inactive'\", \"'Dirty'\", \"'Writeback'\", \"'AnonPages'\", \"'Mapped'\",\n",
       "       \"'Slab'\", \"'PageTables'\", \"'Committed_AS'\", \"'NumOfAllocFH'\",\n",
       "       \"'proc-fd'\", \"'avgThroughput'\", \"'avgElapsed'\", \"'avgLatency'\",\n",
       "       \"'Errors'\"], dtype=object)"
      ]
     },
     "execution_count": 18,
     "metadata": {},
     "output_type": "execute_result"
    }
   ],
   "source": [
    "vars = x.iloc[1,:]\n",
    "vars = vars.to_numpy()\n",
    "vars"
   ]
  },
  {
   "cell_type": "code",
   "execution_count": null,
   "metadata": {},
   "outputs": [],
   "source": [
    "pid = 4231\n",
    "VmPeak =\"grep VmPeak /proc/\"+str(pid)+\"/status\"\n",
    "VmRSS = \"grep VmRSS /proc/\"+str(pid)+\"/status\"\n",
    "VmSize = \"grep VmSize /proc/\"+str(pid)+\"/status\"\n",
    "VmHWM = \"grep VmHWM /proc/\"+str(pid)+\"/status\"\n",
    "VmPTE = \"grep VmPTE /proc/\"+str(pid)+\"/status\"\n",
    "Threads = \"grep Threads /proc/\"+str(pid)+\"/status\"\n",
    "MemFree = \"grep MemFree  /proc/meminfo\" \n",
    "Buffers = \"grep Buffers  /proc/meminfo\" \n",
    "Cached = \"grep Cached  /proc/meminfo | head -1\"\n",
    "Active = \"grep Active  /proc/meminfo | head -1\"\n",
    "Inactive = \"grep Inactive  /proc/meminfo | head -1\"\n",
    "Dirty = \"grep Dirty  /proc/meminfo | head -1\"\n",
    "Writeback = \"grep Writeback  /proc/meminfo | head -1\"\n",
    "AnonPages = \"grep AnonPages  /proc/meminfo | head -1\"\n",
    "Mapped = \"grep Mapped  /proc/meminfo | head -1\"\n",
    "Slab = \"grep Slab  /proc/meminfo | head -1\"\n",
    "PageTables = \"grep PageTables  /proc/meminfo | head -1\"\n",
    "Committed_AS = \"grep Committed_AS  /proc/meminfo | head -1\"\n",
    "NumOfAllocFH = \"head -1 /proc/sys/fs/file-nr | awk ' {print $1} '\"\n",
    "proc_fd = \"cat /proc/sys/fs/file-nr | awk ' { print $1 } ' \"\n",
    "avgThroughput = 'avgThroughput'\n",
    "avgElapsed = 'avgElapsed'\n",
    "avgLatency = 'avgLatency'\n",
    "Errors =   'Errors'\n"
   ]
  },
  {
   "cell_type": "code",
   "execution_count": 1,
   "metadata": {},
   "outputs": [],
   "source": [
    "test = [j for j in range(3)]"
   ]
  },
  {
   "cell_type": "code",
   "execution_count": 2,
   "metadata": {},
   "outputs": [
    {
     "data": {
      "text/plain": [
       "[0, 1, 2]"
      ]
     },
     "execution_count": 2,
     "metadata": {},
     "output_type": "execute_result"
    }
   ],
   "source": [
    "test"
   ]
  },
  {
   "cell_type": "code",
   "execution_count": 41,
   "metadata": {},
   "outputs": [],
   "source": [
    "def mod_test(i):\n",
    "    test[i] += i\n"
   ]
  },
  {
   "cell_type": "code",
   "execution_count": 43,
   "metadata": {},
   "outputs": [
    {
     "name": "stdout",
     "output_type": "stream",
     "text": [
      "Time= 5.0201ms Test = [0, 1, 2] Iterazione: 0 Thread_name = Thread-116\n",
      "Time= 6.536ms Test = [0, 2, 2] Iterazione: 0 Thread_name = Thread-117\n",
      "Time= 7.0698ms Test = [0, 2, 4] Iterazione: 0 Thread_name = Thread-118\n",
      "Time= 0.3181ms Test = [0, 2, 4] Iterazione: 1 Thread_name = Thread-119\n",
      "Time= 0.9718ms Test = [0, 3, 4] Iterazione: 1 Thread_name = Thread-120\n",
      "Time= 1.5209ms Test = [0, 3, 6] Iterazione: 1 Thread_name = Thread-121\n",
      "Time= 0.4041ms Test = [0, 3, 6] Iterazione: 2 Thread_name = Thread-122\n",
      "Time= 1.6611ms Test = [0, 4, 6] Iterazione: 2 Thread_name = Thread-123\n",
      "Time= 2.1961ms Test = [0, 4, 8] Iterazione: 2 Thread_name = Thread-124\n"
     ]
    }
   ],
   "source": [
    "for it in range(3):\n",
    "    threads = [threading.Thread(target = mod_test,args = (i,))for i in range(3)]\n",
    "    t = time.time()\n",
    "    for thread in threads:\n",
    "        thread.start()\n",
    "        elapsed = time.time() - t\n",
    "        print(f'Time= {round(elapsed * 1000,ndigits=4)}ms Test = {test} Iterazione: {it} Thread_name = {thread.name}')\n",
    "    thread.join()\n",
    "    time.sleep(1)\n"
   ]
  },
  {
   "cell_type": "code",
   "execution_count": 44,
   "metadata": {},
   "outputs": [
    {
     "name": "stdout",
     "output_type": "stream",
     "text": [
      "[0, 4, 8]\n"
     ]
    }
   ],
   "source": [
    "print(test)"
   ]
  }
 ],
 "metadata": {
  "kernelspec": {
   "display_name": "Python 3.9.7 ('RaffEnv')",
   "language": "python",
   "name": "python3"
  },
  "language_info": {
   "codemirror_mode": {
    "name": "ipython",
    "version": 3
   },
   "file_extension": ".py",
   "mimetype": "text/x-python",
   "name": "python",
   "nbconvert_exporter": "python",
   "pygments_lexer": "ipython3",
   "version": "3.9.7"
  },
  "orig_nbformat": 4,
  "vscode": {
   "interpreter": {
    "hash": "833e8a28b7e06ebcd2b1f70af945744f6e0903d569026d00c39923a481277035"
   }
  }
 },
 "nbformat": 4,
 "nbformat_minor": 2
}
